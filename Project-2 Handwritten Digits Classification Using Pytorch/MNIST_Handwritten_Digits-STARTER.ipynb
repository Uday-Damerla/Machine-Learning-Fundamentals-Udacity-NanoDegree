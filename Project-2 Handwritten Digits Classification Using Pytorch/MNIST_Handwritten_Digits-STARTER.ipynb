{
 "cells": [
  {
   "cell_type": "markdown",
   "metadata": {},
   "source": [
    "# Introduction\n",
    "\n",
    "In this project, you will build a neural network of your own design to evaluate the MNIST dataset.\n",
    "\n",
    "Some of the benchmark results on MNIST include can be found [on Yann LeCun's page](http://yann.lecun.com/exdb/mnist/) and include:\n",
    "\n",
    "88% [Lecun et al., 1998](http://yann.lecun.com/exdb/publis/pdf/lecun-98.pdf)\n",
    "95.3% [Lecun et al., 1998](http://yann.lecun.com/exdb/publis/pdf/lecun-98.pdf)\n",
    "99.65% [Ciresan et al., 2011](http://people.idsia.ch/~juergen/ijcai2011.pdf)\n",
    "\n",
    "MNIST is a great dataset for sanity checking your models, since the accuracy levels achieved by large convolutional neural networks and small linear models are both quite high. This makes it important to be familiar with the data.\n",
    "\n",
    "## Imports"
   ]
  },
  {
   "cell_type": "code",
   "execution_count": 1,
   "metadata": {},
   "outputs": [],
   "source": [
    "## This cell contains the essential imports you will need – DO NOT CHANGE THE CONTENTS! ##\n",
    "import torch\n",
    "import torch.nn as nn\n",
    "import torch.nn.functional as F\n",
    "import torch.optim as optim\n",
    "import torchvision\n",
    "import torchvision.transforms as transforms\n",
    "import matplotlib.pyplot as plt\n",
    "import numpy as np"
   ]
  },
  {
   "cell_type": "markdown",
   "metadata": {},
   "source": [
    "## Load the Dataset\n",
    "\n",
    "Specify your transforms as a list if you intend to .\n",
    "The transforms module is already loaded as `transforms`.\n",
    "\n",
    "MNIST is fortunately included in the torchvision module.\n",
    "Then, you can create your dataset using the `MNIST` object from `torchvision.datasets` ([the documentation is available here](https://pytorch.org/vision/stable/datasets.html#mnist)).\n",
    "Make sure to specify `download=True`! \n",
    "\n",
    "Once your dataset is created, you'll also need to define a `DataLoader` from the `torch.utils.data` module for both the train and the test set."
   ]
  },
  {
   "cell_type": "code",
   "execution_count": 2,
   "metadata": {},
   "outputs": [
    {
     "name": "stderr",
     "output_type": "stream",
     "text": [
      "/opt/conda/lib/python3.7/site-packages/torchvision/datasets/mnist.py:498: UserWarning: The given NumPy array is not writable, and PyTorch does not support non-writable tensors. This means writing to this tensor will result in undefined behavior. You may want to copy the array to protect its data or make it writable before converting it to a tensor. This type of warning will be suppressed for the rest of this program. (Triggered internally at  ../torch/csrc/utils/tensor_numpy.cpp:178.)\n",
      "  return torch.from_numpy(parsed.astype(m[2], copy=False)).view(*s)\n"
     ]
    }
   ],
   "source": [
    "from torch.utils.data import DataLoader\n",
    "# Define transforms\n",
    "transform = transforms.Compose([\n",
    "    transforms.ToTensor()])\n",
    "# Create training set and define training dataloader\n",
    "train_set = torchvision.datasets.MNIST(root='data', train=True, download=True, transform=transform)\n",
    "train_loader = DataLoader(train_set, batch_size=64, shuffle=True)\n",
    "\n",
    "# Create test set and define test dataloader\n",
    "test_set = torchvision.datasets.MNIST(root='data', train=False, download=True, transform=transform)\n",
    "test_loader = DataLoader(test_set, batch_size=64, shuffle=False)"
   ]
  },
  {
   "cell_type": "markdown",
   "metadata": {},
   "source": [
    "## Justify your preprocessing\n",
    "\n",
    "In your own words, why did you choose the transforms you chose? If you didn't use any preprocessing steps, why not?"
   ]
  },
  {
   "cell_type": "markdown",
   "metadata": {},
   "source": [
    "**DOUBLE CLICK THIS CELL TO MODIFY**"
   ]
  },
  {
   "cell_type": "markdown",
   "metadata": {},
   "source": [
    "## Explore the Dataset\n",
    "Using matplotlib, numpy, and torch, explore the dimensions of your data.\n",
    "\n",
    "You can view images using the `show5` function defined below – it takes a data loader as an argument.\n",
    "Remember that normalized images will look really weird to you! You may want to try changing your transforms to view images.\n",
    "Typically using no transforms other than `toTensor()` works well for viewing – but not as well for training your network.\n",
    "If `show5` doesn't work, go back and check your code for creating your data loaders and your training/test sets."
   ]
  },
  {
   "cell_type": "code",
   "execution_count": 3,
   "metadata": {},
   "outputs": [],
   "source": [
    "## This cell contains a function for showing 5 images from a dataloader – DO NOT CHANGE THE CONTENTS! ##\n",
    "def show5(img_loader):\n",
    "    dataiter = iter(img_loader)\n",
    "    \n",
    "    batch = next(dataiter)\n",
    "    labels = batch[1][0:5]\n",
    "    images = batch[0][0:5]\n",
    "    for i in range(5):\n",
    "        print(int(labels[i].detach()))\n",
    "    \n",
    "        image = images[i].numpy()\n",
    "        plt.imshow(image.T.squeeze().T)\n",
    "        plt.show()"
   ]
  },
  {
   "cell_type": "code",
   "execution_count": 4,
   "metadata": {},
   "outputs": [
    {
     "name": "stdout",
     "output_type": "stream",
     "text": [
      "Training data size: 60000\n",
      "Test data size: 10000\n",
      "Shape of training data: torch.Size([1, 28, 28])\n",
      "Shape of test data: torch.Size([1, 28, 28])\n",
      "5\n"
     ]
    },
    {
     "data": {
      "image/png": "[encoded data removed]",
      "text/plain": [
       "<Figure size 432x288 with 1 Axes>"
      ]
     },
     "metadata": {
      "needs_background": "light"
     },
     "output_type": "display_data"
    },
    {
     "name": "stdout",
     "output_type": "stream",
     "text": [
      "9\n"
     ]
    },
    {
     "data": {
      "image/png": "[encoded data removed]",
      "text/plain": [
       "<Figure size 432x288 with 1 Axes>"
      ]
     },
     "metadata": {
      "needs_background": "light"
     },
     "output_type": "display_data"
    },
    {
     "name": "stdout",
     "output_type": "stream",
     "text": [
      "2\n"
     ]
    },
    {
     "data": {
      "image/png": "[encoded data removed]",
      "text/plain": [
       "<Figure size 432x288 with 1 Axes>"
      ]
     },
     "metadata": {
      "needs_background": "light"
     },
     "output_type": "display_data"
    },
    {
     "name": "stdout",
     "output_type": "stream",
     "text": [
      "9\n"
     ]
    },
    {
     "data": {
      "image/png": "[encoded data removed]",
      "text/plain": [
       "<Figure size 432x288 with 1 Axes>"
      ]
     },
     "metadata": {
      "needs_background": "light"
     },
     "output_type": "display_data"
    },
    {
     "name": "stdout",
     "output_type": "stream",
     "text": [
      "7\n"
     ]
    },
    {
     "data": {
      "image/png": "[encoded data removed]",
      "text/plain": [
       "<Figure size 432x288 with 1 Axes>"
      ]
     },
     "metadata": {
      "needs_background": "light"
     },
     "output_type": "display_data"
    }
   ],
   "source": [
    "# Explore data\n",
    "print(\"Training data size:\", len(train_set))\n",
    "print(\"Test data size:\", len(test_set))\n",
    "print(\"Shape of training data:\", train_set[0][0].shape)\n",
    "print(\"Shape of test data:\", test_set[0][0].shape)\n",
    "show5(train_loader)"
   ]
  },
  {
   "cell_type": "markdown",
   "metadata": {},
   "source": [
    "## Build your Neural Network\n",
    "Using the layers in `torch.nn` (which has been imported as `nn`) and the `torch.nn.functional` module (imported as `F`), construct a neural network based on the parameters of the dataset.\n",
    "Use any architecture you like. \n",
    "\n",
    "*Note*: If you did not flatten your tensors in your transforms or as part of your preprocessing and you are using only `Linear` layers, make sure to use the `Flatten` layer in your network!"
   ]
  },
  {
   "cell_type": "code",
   "execution_count": 5,
   "metadata": {},
   "outputs": [],
   "source": [
    "class NeuralNetwork(nn.Module):\n",
    "    def __init__(self):\n",
    "        super(NeuralNetwork, self).__init__()\n",
    "        self.flatten = nn.Flatten()\n",
    "        self.fc1 = nn.Linear(784, 128)\n",
    "        self.fc2 = nn.Linear(128, 64)\n",
    "        self.fc3 = nn.Linear(64, 10)\n",
    "\n",
    "    def forward(self, x):\n",
    "        x = self.flatten(x)\n",
    "        x = F.relu(self.fc1(x))\n",
    "        x = F.relu(self.fc2(x))\n",
    "        x = self.fc3(x)\n",
    "        return x"
   ]
  },
  {
   "cell_type": "markdown",
   "metadata": {},
   "source": [
    "Specify a loss function and an optimizer, and instantiate the model.\n",
    "\n",
    "If you use a less common loss function, please note why you chose that loss function in a comment."
   ]
  },
  {
   "cell_type": "code",
   "execution_count": 6,
   "metadata": {},
   "outputs": [],
   "source": [
    "model = NeuralNetwork()\n",
    "\n",
    "# loss function\n",
    "criterion = nn.CrossEntropyLoss()\n",
    "\n",
    "# optimizer\n",
    "optimizer = optim.SGD(model.parameters(), lr=0.001, momentum=0.9)"
   ]
  },
  {
   "cell_type": "markdown",
   "metadata": {},
   "source": [
    "## Running your Neural Network\n",
    "Use whatever method you like to train your neural network, and ensure you record the average loss at each epoch. \n",
    "Don't forget to use `torch.device()` and the `.to()` method for both your model and your data if you are using GPU!\n",
    "\n",
    "If you want to print your loss **during** each epoch, you can use the `enumerate` function and print the loss after a set number of batches. 250 batches works well for most people!"
   ]
  },
  {
   "cell_type": "code",
   "execution_count": 8,
   "metadata": {},
   "outputs": [
    {
     "name": "stdout",
     "output_type": "stream",
     "text": [
      "Epoch [1/20], Batch [250/938], Loss: 2.2579\n",
      "Epoch [1/20], Batch [500/938], Loss: 2.0256\n",
      "Epoch [1/20], Batch [750/938], Loss: 1.4286\n",
      "Epoch [2/20], Batch [250/938], Loss: 0.6983\n",
      "Epoch [2/20], Batch [500/938], Loss: 0.5649\n",
      "Epoch [2/20], Batch [750/938], Loss: 0.4948\n",
      "Epoch [3/20], Batch [250/938], Loss: 0.4251\n",
      "Epoch [3/20], Batch [500/938], Loss: 0.4005\n",
      "Epoch [3/20], Batch [750/938], Loss: 0.3663\n",
      "Epoch [4/20], Batch [250/938], Loss: 0.3534\n",
      "Epoch [4/20], Batch [500/938], Loss: 0.3370\n",
      "Epoch [4/20], Batch [750/938], Loss: 0.3361\n",
      "Epoch [5/20], Batch [250/938], Loss: 0.3085\n",
      "Epoch [5/20], Batch [500/938], Loss: 0.3131\n",
      "Epoch [5/20], Batch [750/938], Loss: 0.3022\n",
      "Epoch [6/20], Batch [250/938], Loss: 0.2894\n",
      "Epoch [6/20], Batch [500/938], Loss: 0.2739\n",
      "Epoch [6/20], Batch [750/938], Loss: 0.2887\n",
      "Epoch [7/20], Batch [250/938], Loss: 0.2729\n",
      "Epoch [7/20], Batch [500/938], Loss: 0.2646\n",
      "Epoch [7/20], Batch [750/938], Loss: 0.2657\n",
      "Epoch [8/20], Batch [250/938], Loss: 0.2549\n",
      "Epoch [8/20], Batch [500/938], Loss: 0.2496\n",
      "Epoch [8/20], Batch [750/938], Loss: 0.2466\n",
      "Epoch [9/20], Batch [250/938], Loss: 0.2332\n",
      "Epoch [9/20], Batch [500/938], Loss: 0.2373\n",
      "Epoch [9/20], Batch [750/938], Loss: 0.2347\n",
      "Epoch [10/20], Batch [250/938], Loss: 0.2176\n",
      "Epoch [10/20], Batch [500/938], Loss: 0.2194\n",
      "Epoch [10/20], Batch [750/938], Loss: 0.2269\n",
      "Epoch [11/20], Batch [250/938], Loss: 0.2106\n",
      "Epoch [11/20], Batch [500/938], Loss: 0.2132\n",
      "Epoch [11/20], Batch [750/938], Loss: 0.2135\n",
      "Epoch [12/20], Batch [250/938], Loss: 0.2070\n",
      "Epoch [12/20], Batch [500/938], Loss: 0.1977\n",
      "Epoch [12/20], Batch [750/938], Loss: 0.1870\n",
      "Epoch [13/20], Batch [250/938], Loss: 0.1821\n",
      "Epoch [13/20], Batch [500/938], Loss: 0.1897\n",
      "Epoch [13/20], Batch [750/938], Loss: 0.1888\n",
      "Epoch [14/20], Batch [250/938], Loss: 0.1823\n",
      "Epoch [14/20], Batch [500/938], Loss: 0.1846\n",
      "Epoch [14/20], Batch [750/938], Loss: 0.1691\n",
      "Epoch [15/20], Batch [250/938], Loss: 0.1723\n",
      "Epoch [15/20], Batch [500/938], Loss: 0.1656\n",
      "Epoch [15/20], Batch [750/938], Loss: 0.1706\n",
      "Epoch [16/20], Batch [250/938], Loss: 0.1583\n",
      "Epoch [16/20], Batch [500/938], Loss: 0.1600\n",
      "Epoch [16/20], Batch [750/938], Loss: 0.1629\n",
      "Epoch [17/20], Batch [250/938], Loss: 0.1580\n",
      "Epoch [17/20], Batch [500/938], Loss: 0.1569\n",
      "Epoch [17/20], Batch [750/938], Loss: 0.1455\n",
      "Epoch [18/20], Batch [250/938], Loss: 0.1460\n",
      "Epoch [18/20], Batch [500/938], Loss: 0.1513\n",
      "Epoch [18/20], Batch [750/938], Loss: 0.1457\n",
      "Epoch [19/20], Batch [250/938], Loss: 0.1396\n",
      "Epoch [19/20], Batch [500/938], Loss: 0.1378\n",
      "Epoch [19/20], Batch [750/938], Loss: 0.1385\n",
      "Epoch [20/20], Batch [250/938], Loss: 0.1347\n",
      "Epoch [20/20], Batch [500/938], Loss: 0.1305\n",
      "Epoch [20/20], Batch [750/938], Loss: 0.1364\n"
     ]
    }
   ],
   "source": [
    "device = torch.device(\"cuda\" if torch.cuda.is_available() else \"cpu\")\n",
    "model.to(device)\n",
    "\n",
    "# Set the model to training mode\n",
    "model.train()\n",
    "\n",
    "# Define the number of batches to print the loss\n",
    "print_loss_every = 250\n",
    "\n",
    "# Lists to store the loss values\n",
    "train_loss_values = []\n",
    "\n",
    "\n",
    "num_epochs = 20  # Define the number of epochs\n",
    "\n",
    "# Training loop\n",
    "for epoch in range(num_epochs):\n",
    "    running_loss = 0.0\n",
    "    \n",
    "    for batch_idx, (images, labels) in enumerate(train_loader):\n",
    "        # Move the data to the appropriate device\n",
    "        images = images.to(device)\n",
    "        labels = labels.to(device)\n",
    "        \n",
    "        # Zero the gradients\n",
    "        optimizer.zero_grad()\n",
    "        \n",
    "        # Forward pass\n",
    "        outputs = model(images)\n",
    "        loss = criterion(outputs, labels)\n",
    "        \n",
    "        # Backward pass and optimization\n",
    "        loss.backward()\n",
    "        optimizer.step()\n",
    "        \n",
    "        # Record the loss\n",
    "        running_loss += loss.item()\n",
    "        \n",
    "        # Print the loss every few batches\n",
    "        if (batch_idx + 1) % print_loss_every == 0:\n",
    "            avg_loss = running_loss / print_loss_every\n",
    "            print(f\"Epoch [{epoch+1}/{num_epochs}], Batch [{batch_idx+1}/{len(train_loader)}], Loss: {avg_loss:.4f}\")\n",
    "            train_loss_values.append(avg_loss)\n",
    "            running_loss = 0.0\n",
    "\n"
   ]
  },
  {
   "cell_type": "markdown",
   "metadata": {},
   "source": [
    "Plot the training loss (and validation loss/accuracy, if recorded)."
   ]
  },
  {
   "cell_type": "code",
   "execution_count": 9,
   "metadata": {},
   "outputs": [
    {
     "data": {
      "image/png": "[encoded data removed]",
      "text/plain": [
       "<Figure size 432x288 with 1 Axes>"
      ]
     },
     "metadata": {
      "needs_background": "light"
     },
     "output_type": "display_data"
    }
   ],
   "source": [
    "# Plot the training loss\n",
    "plt.plot(train_loss_values)\n",
    "plt.xlabel(\"Epoch\")\n",
    "plt.ylabel(\"Training Loss\")\n",
    "plt.title(\"Training Loss\")\n",
    "plt.show()"
   ]
  },
  {
   "cell_type": "markdown",
   "metadata": {},
   "source": [
    "## Testing your model\n",
    "Using the previously created `DataLoader` for the test set, compute the percentage of correct predictions using the highest probability prediction. \n",
    "\n",
    "If your accuracy is over 90%, great work, but see if you can push a bit further! \n",
    "If your accuracy is under 90%, you'll need to make improvements.\n",
    "Go back and check your model architecture, loss function, and optimizer to make sure they're appropriate for an image classification task."
   ]
  },
  {
   "cell_type": "code",
   "execution_count": 23,
   "metadata": {},
   "outputs": [
    {
     "name": "stdout",
     "output_type": "stream",
     "text": [
      "Accuracy: 95.88%\n"
     ]
    }
   ],
   "source": [
    "correct_predictions = 0\n",
    "total_predictions = 0\n",
    "\n",
    "# Set the model to evaluation mode\n",
    "model.eval()\n",
    "\n",
    "# Iterate over the test set\n",
    "for images, labels in test_loader:\n",
    "    # Move the data to the appropriate device\n",
    "    images = images.to(device)\n",
    "    labels = labels.to(device)\n",
    "    \n",
    "    # Forward pass\n",
    "    outputs = model(images)\n",
    "    \n",
    "    # Get the predicted class labels\n",
    "    _, predicted = torch.max(outputs.data, 1)\n",
    "    \n",
    "    # Update the count of correct predictions\n",
    "    correct_predictions += (predicted == labels).sum().item()\n",
    "    \n",
    "    # Update the total number of predictions\n",
    "    total_predictions += labels.size(0)\n",
    "\n",
    "# Calculate the percentage of correct predictions\n",
    "accuracy = (correct_predictions / total_predictions) * 100\n",
    "\n",
    "print(f\"Accuracy: {accuracy:.2f}%\")"
   ]
  },
  {
   "cell_type": "markdown",
   "metadata": {},
   "source": [
    "## Improving your model\n",
    "\n",
    "Once your model is done training, try tweaking your hyperparameters and training again below to improve your accuracy on the test set!"
   ]
  },
  {
   "cell_type": "code",
   "execution_count": 25,
   "metadata": {},
   "outputs": [
    {
     "name": "stdout",
     "output_type": "stream",
     "text": [
      "Epoch [1/30], Batch [250/938], Loss: 0.6449\n",
      "Epoch [1/30], Batch [500/938], Loss: 0.2753\n",
      "Epoch [1/30], Batch [750/938], Loss: 0.2232\n",
      "Epoch [1/30], Validation Accuracy: 94.97%\n",
      "Epoch [2/30], Batch [250/938], Loss: 0.1572\n",
      "Epoch [2/30], Batch [500/938], Loss: 0.1444\n",
      "Epoch [2/30], Batch [750/938], Loss: 0.1368\n",
      "Epoch [2/30], Validation Accuracy: 95.93%\n",
      "Epoch [3/30], Batch [250/938], Loss: 0.1000\n",
      "Epoch [3/30], Batch [500/938], Loss: 0.1010\n",
      "Epoch [3/30], Batch [750/938], Loss: 0.0971\n",
      "Epoch [3/30], Validation Accuracy: 96.80%\n",
      "Epoch [4/30], Batch [250/938], Loss: 0.0714\n",
      "Epoch [4/30], Batch [500/938], Loss: 0.0696\n",
      "Epoch [4/30], Batch [750/938], Loss: 0.0802\n",
      "Epoch [4/30], Validation Accuracy: 97.34%\n",
      "Epoch [5/30], Batch [250/938], Loss: 0.0582\n",
      "Epoch [5/30], Batch [500/938], Loss: 0.0547\n",
      "Epoch [5/30], Batch [750/938], Loss: 0.0587\n",
      "Epoch [5/30], Validation Accuracy: 97.71%\n",
      "Epoch [6/30], Batch [250/938], Loss: 0.0450\n",
      "Epoch [6/30], Batch [500/938], Loss: 0.0483\n",
      "Epoch [6/30], Batch [750/938], Loss: 0.0460\n",
      "Epoch [6/30], Validation Accuracy: 97.57%\n",
      "Epoch [7/30], Batch [250/938], Loss: 0.0340\n",
      "Epoch [7/30], Batch [500/938], Loss: 0.0374\n",
      "Epoch [7/30], Batch [750/938], Loss: 0.0375\n",
      "Epoch [7/30], Validation Accuracy: 97.85%\n",
      "Epoch [8/30], Batch [250/938], Loss: 0.0273\n",
      "Epoch [8/30], Batch [500/938], Loss: 0.0317\n",
      "Epoch [8/30], Batch [750/938], Loss: 0.0347\n",
      "Epoch [8/30], Validation Accuracy: 97.82%\n",
      "Epoch [9/30], Batch [250/938], Loss: 0.0221\n",
      "Epoch [9/30], Batch [500/938], Loss: 0.0259\n",
      "Epoch [9/30], Batch [750/938], Loss: 0.0272\n",
      "Epoch [9/30], Validation Accuracy: 97.72%\n",
      "Epoch [10/30], Batch [250/938], Loss: 0.0175\n",
      "Epoch [10/30], Batch [500/938], Loss: 0.0211\n",
      "Epoch [10/30], Batch [750/938], Loss: 0.0217\n",
      "Epoch [10/30], Validation Accuracy: 97.63%\n",
      "Epoch [11/30], Batch [250/938], Loss: 0.0153\n",
      "Epoch [11/30], Batch [500/938], Loss: 0.0161\n",
      "Epoch [11/30], Batch [750/938], Loss: 0.0221\n",
      "Epoch [11/30], Validation Accuracy: 97.94%\n",
      "Epoch [12/30], Batch [250/938], Loss: 0.0104\n",
      "Epoch [12/30], Batch [500/938], Loss: 0.0127\n",
      "Epoch [12/30], Batch [750/938], Loss: 0.0178\n",
      "Epoch [12/30], Validation Accuracy: 97.34%\n",
      "Epoch [13/30], Batch [250/938], Loss: 0.0115\n",
      "Epoch [13/30], Batch [500/938], Loss: 0.0146\n",
      "Epoch [13/30], Batch [750/938], Loss: 0.0192\n",
      "Epoch [13/30], Validation Accuracy: 97.65%\n",
      "Epoch [14/30], Batch [250/938], Loss: 0.0141\n",
      "Epoch [14/30], Batch [500/938], Loss: 0.0144\n",
      "Epoch [14/30], Batch [750/938], Loss: 0.0132\n",
      "Epoch [14/30], Validation Accuracy: 98.03%\n",
      "Epoch [15/30], Batch [250/938], Loss: 0.0087\n",
      "Epoch [15/30], Batch [500/938], Loss: 0.0108\n",
      "Epoch [15/30], Batch [750/938], Loss: 0.0079\n",
      "Epoch [15/30], Validation Accuracy: 97.83%\n",
      "Epoch [16/30], Batch [250/938], Loss: 0.0103\n",
      "Epoch [16/30], Batch [500/938], Loss: 0.0120\n",
      "Epoch [16/30], Batch [750/938], Loss: 0.0106\n",
      "Epoch [16/30], Validation Accuracy: 97.90%\n",
      "Epoch [17/30], Batch [250/938], Loss: 0.0095\n",
      "Epoch [17/30], Batch [500/938], Loss: 0.0180\n",
      "Epoch [17/30], Batch [750/938], Loss: 0.0104\n",
      "Epoch [17/30], Validation Accuracy: 97.89%\n",
      "Epoch [18/30], Batch [250/938], Loss: 0.0089\n",
      "Epoch [18/30], Batch [500/938], Loss: 0.0069\n",
      "Epoch [18/30], Batch [750/938], Loss: 0.0076\n",
      "Epoch [18/30], Validation Accuracy: 97.98%\n",
      "Epoch [19/30], Batch [250/938], Loss: 0.0048\n",
      "Epoch [19/30], Batch [500/938], Loss: 0.0040\n",
      "Epoch [19/30], Batch [750/938], Loss: 0.0117\n",
      "Epoch [19/30], Validation Accuracy: 97.70%\n",
      "Epoch [20/30], Batch [250/938], Loss: 0.0097\n",
      "Epoch [20/30], Batch [500/938], Loss: 0.0073\n",
      "Epoch [20/30], Batch [750/938], Loss: 0.0096\n",
      "Epoch [20/30], Validation Accuracy: 97.83%\n",
      "Epoch [21/30], Batch [250/938], Loss: 0.0053\n",
      "Epoch [21/30], Batch [500/938], Loss: 0.0068\n",
      "Epoch [21/30], Batch [750/938], Loss: 0.0069\n",
      "Epoch [21/30], Validation Accuracy: 98.14%\n",
      "Epoch [22/30], Batch [250/938], Loss: 0.0045\n",
      "Epoch [22/30], Batch [500/938], Loss: 0.0074\n",
      "Epoch [22/30], Batch [750/938], Loss: 0.0078\n",
      "Epoch [22/30], Validation Accuracy: 98.10%\n",
      "Epoch [23/30], Batch [250/938], Loss: 0.0051\n",
      "Epoch [23/30], Batch [500/938], Loss: 0.0104\n",
      "Epoch [23/30], Batch [750/938], Loss: 0.0086\n",
      "Epoch [23/30], Validation Accuracy: 97.53%\n",
      "Epoch [24/30], Batch [250/938], Loss: 0.0086\n",
      "Epoch [24/30], Batch [500/938], Loss: 0.0053\n",
      "Epoch [24/30], Batch [750/938], Loss: 0.0132\n",
      "Epoch [24/30], Validation Accuracy: 97.62%\n",
      "Epoch [25/30], Batch [250/938], Loss: 0.0041\n",
      "Epoch [25/30], Batch [500/938], Loss: 0.0032\n",
      "Epoch [25/30], Batch [750/938], Loss: 0.0057\n",
      "Epoch [25/30], Validation Accuracy: 97.97%\n",
      "Epoch [26/30], Batch [250/938], Loss: 0.0095\n",
      "Epoch [26/30], Batch [500/938], Loss: 0.0109\n",
      "Epoch [26/30], Batch [750/938], Loss: 0.0097\n",
      "Epoch [26/30], Validation Accuracy: 97.81%\n",
      "Epoch [27/30], Batch [250/938], Loss: 0.0026\n",
      "Epoch [27/30], Batch [500/938], Loss: 0.0019\n",
      "Epoch [27/30], Batch [750/938], Loss: 0.0024\n",
      "Epoch [27/30], Validation Accuracy: 97.76%\n",
      "Epoch [28/30], Batch [250/938], Loss: 0.0085\n",
      "Epoch [28/30], Batch [500/938], Loss: 0.0068\n",
      "Epoch [28/30], Batch [750/938], Loss: 0.0091\n",
      "Epoch [28/30], Validation Accuracy: 97.98%\n",
      "Epoch [29/30], Batch [250/938], Loss: 0.0060\n",
      "Epoch [29/30], Batch [500/938], Loss: 0.0057\n",
      "Epoch [29/30], Batch [750/938], Loss: 0.0096\n",
      "Epoch [29/30], Validation Accuracy: 97.74%\n",
      "Epoch [30/30], Batch [250/938], Loss: 0.0073\n",
      "Epoch [30/30], Batch [500/938], Loss: 0.0066\n",
      "Epoch [30/30], Batch [750/938], Loss: 0.0054\n",
      "Epoch [30/30], Validation Accuracy: 97.86%\n",
      "Final Test Accuracy: 97.86%\n"
     ]
    }
   ],
   "source": [
    "learning_rate = 0.001  # Adjust the learning rate\n",
    "num_epochs = 30  # Increase or decrease the number of epochs\n",
    "batch_size = 64  # Adjust the batch size\n",
    "num_workers = 4  # Set the number of data loading subprocesses\n",
    "\n",
    "# Define your model architecture\n",
    "model = NeuralNetwork()\n",
    "# Move the model to the appropriate device\n",
    "model.to(device)\n",
    "\n",
    "# Define your loss function\n",
    "criterion = nn.CrossEntropyLoss()  # Try different loss functions\n",
    "\n",
    "# Define your optimizer\n",
    "optimizer = torch.optim.Adam(model.parameters(), lr=learning_rate)  # Adjust the optimizer and learning rate\n",
    "\n",
    "# Create the data loaders\n",
    "train_loader = DataLoader(train_set, batch_size=batch_size, shuffle=True, num_workers=num_workers, pin_memory=True)\n",
    "test_loader = DataLoader(test_set, batch_size=batch_size, shuffle=False, num_workers=num_workers, pin_memory=True)\n",
    "\n",
    "# Training loop\n",
    "for epoch in range(num_epochs):\n",
    "    running_loss = 0.0\n",
    "    \n",
    "    for batch_idx, (images, labels) in enumerate(train_loader):\n",
    "        # Move the data to the appropriate device\n",
    "        images = images.to(device)\n",
    "        labels = labels.to(device)\n",
    "        \n",
    "        # Zero the gradients\n",
    "        optimizer.zero_grad()\n",
    "        \n",
    "        # Forward pass\n",
    "        outputs = model(images)\n",
    "        loss = criterion(outputs, labels)\n",
    "        \n",
    "        # Backward pass and optimization\n",
    "        loss.backward()\n",
    "        optimizer.step()\n",
    "        \n",
    "        # Record the loss\n",
    "        running_loss += loss.item()\n",
    "        \n",
    "        # Print the loss every few batches\n",
    "        if (batch_idx + 1) % print_loss_every == 0:\n",
    "            avg_loss = running_loss / print_loss_every\n",
    "            print(f\"Epoch [{epoch+1}/{num_epochs}], Batch [{batch_idx+1}/{len(train_loader)}], Loss: {avg_loss:.4f}\")\n",
    "            train_loss_values.append(avg_loss)\n",
    "            running_loss = 0.0\n",
    "\n",
    "    # Evaluate the model on the validation set\n",
    "    model.eval()\n",
    "    with torch.no_grad():\n",
    "        correct_predictions = 0\n",
    "        total_predictions = 0\n",
    "        for images, labels in test_loader:\n",
    "            images = images.to(device)\n",
    "            labels = labels.to(device)\n",
    "            \n",
    "            outputs = model(images)\n",
    "            _, predicted = torch.max(outputs.data, 1)\n",
    "            \n",
    "            correct_predictions += (predicted == labels).sum().item()\n",
    "            total_predictions += labels.size(0)\n",
    "        \n",
    "        accuracy = (correct_predictions / total_predictions) * 100\n",
    "        print(f\"Epoch [{epoch+1}/{num_epochs}], Validation Accuracy: {accuracy:.2f}%\")\n",
    "    model.train()\n",
    "\n",
    "# Calculate the final accuracy on the test set\n",
    "model.eval()\n",
    "with torch.no_grad():\n",
    "    correct_predictions = 0\n",
    "    total_predictions = 0\n",
    "    for images, labels in test_loader:\n",
    "        images = images.to(device)\n",
    "        labels = labels.to(device)\n",
    "        \n",
    "        outputs = model(images)\n",
    "        _, predicted = torch.max(outputs.data, 1)\n",
    "        \n",
    "        correct_predictions += (predicted == labels).sum().item()\n",
    "        total_predictions += labels.size(0)\n",
    "    \n",
    "    accuracy = (correct_predictions / total_predictions) * 100\n",
    "    print(f\"Final Test Accuracy: {accuracy:.2f}%\")"
   ]
  },
  {
   "cell_type": "markdown",
   "metadata": {},
   "source": [
    "## Saving your model\n",
    "Using `torch.save`, save your model for future loading."
   ]
  },
  {
   "cell_type": "code",
   "execution_count": 29,
   "metadata": {},
   "outputs": [],
   "source": [
    "import os\n",
    "\n",
    "# Get the path of your code file\n",
    "code_file_path = os.path.abspath(\"MNIST_Handwritten_Digits-STARTER.ipynb\")\n",
    "\n",
    "# Get the directory path of your code file\n",
    "code_directory = os.path.dirname(code_file_path)\n",
    "\n",
    "# Define the file path for saving the model\n",
    "model_path = os.path.join(code_directory, 'model.pth')\n",
    "\n",
    "# Save the model\n",
    "torch.save(model.state_dict(), model_path)"
   ]
  }
 ],
 "metadata": {
  "kernelspec": {
   "display_name": "Python 3",
   "language": "python",
   "name": "python3"
  },
  "language_info": {
   "codemirror_mode": {
    "name": "ipython",
    "version": 3
   },
   "file_extension": ".py",
   "mimetype": "text/x-python",
   "name": "python",
   "nbconvert_exporter": "python",
   "pygments_lexer": "ipython3",
   "version": "3.7.6"
  }
 },
 "nbformat": 4,
 "nbformat_minor": 4
}
